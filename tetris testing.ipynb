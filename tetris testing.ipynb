{
 "cells": [
  {
   "cell_type": "code",
   "execution_count": 16,
   "metadata": {},
   "outputs": [],
   "source": [
    "from tetris_funcs import *\n",
    "from tetris_vars import *"
   ]
  },
  {
   "cell_type": "code",
   "execution_count": 6,
   "metadata": {},
   "outputs": [
    {
     "name": "stdout",
     "output_type": "stream",
     "text": [
      ". . . . . . . . \n",
      ". . . . . . . . \n",
      ". . . . . . . . \n",
      ". . . . . . . . \n",
      ". . . . . . . . \n",
      ". . . . . . . x \n",
      ". . x x x x x x \n",
      "x x x x . . . x \n"
     ]
    }
   ],
   "source": [
    "build_grid(8,8)\n",
    "draw_part([1,1],block_i,3)\n",
    "draw_part([3,2],block_i,3)\n",
    "draw_part([8,2],block_t,1)\n",
    "draw_part([8,2],block_t,1)\n",
    "print_grid()"
   ]
  },
  {
   "cell_type": "code",
   "execution_count": 15,
   "metadata": {},
   "outputs": [
    {
     "name": "stdout",
     "output_type": "stream",
     "text": [
      "scores from all possible moves [18, 0, 0, 0, 0, 0, 0, 8, 0, 0, 0, 8, 0, 8, 0, 8, 0, 8, 0, 8, 14, 20, 0, 0, 14, 20, 0, 0, 10, 16, 0, 0]\n",
      "best score 21 which is move 20\n",
      "position for best score - column = 6 rotation = 1\n"
     ]
    }
   ],
   "source": [
    "scores = try_all_part_positions(block_i)\n",
    "best = pick_best_score(scores)\n",
    "move = convert_score_to_move(best)\n",
    "print('scores from all possible moves',scores)\n",
    "print('best score',best[0],'which is move',best[1])\n",
    "print('position for best score - column =',move[0],'rotation =',move[1])"
   ]
  }
 ],
 "metadata": {
  "interpreter": {
   "hash": "63fd5069d213b44bf678585dea6b12cceca9941eaf7f819626cde1f2670de90d"
  },
  "kernelspec": {
   "display_name": "Python 3.9.0 64-bit",
   "name": "python3"
  },
  "language_info": {
   "codemirror_mode": {
    "name": "ipython",
    "version": 3
   },
   "file_extension": ".py",
   "mimetype": "text/x-python",
   "name": "python",
   "nbconvert_exporter": "python",
   "pygments_lexer": "ipython3",
   "version": "3.9.0"
  },
  "orig_nbformat": 4
 },
 "nbformat": 4,
 "nbformat_minor": 2
}
